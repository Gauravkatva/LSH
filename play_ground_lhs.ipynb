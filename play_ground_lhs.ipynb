{
 "cells": [
  {
   "cell_type": "code",
   "execution_count": 11,
   "id": "ddcab798",
   "metadata": {},
   "outputs": [],
   "source": [
    "# LSH consists of a variety of different methods. \n",
    "# we’ll be covering the traditional approach\n",
    "# which consists of multiple steps — shingling, MinHashing, and the final banded LSH function.\n",
    "\n",
    "# Tradidtional Hashing => Minimize Collision\n",
    "# More like dict in python and map in other languages\n",
    "# <key, value>\n",
    "\n",
    "# Locality Sensitive Hashing (LSH) => Maximize Collision and combine\n",
    "# <key, List<value>>\n",
    "# Combine values with pottentially equal aur equvivalent keys in same key"
   ]
  },
  {
   "cell_type": "code",
   "execution_count": 12,
   "id": "4aec733f",
   "metadata": {},
   "outputs": [
    {
     "name": "stdout",
     "output_type": "stream",
     "text": [
      "{'th', 'fi', 'at', 'he', 'fl', 'h ', 'ac', 'y ', 'on', 'sh', ' s', 'ew', 'ly', 'le', 'in', 'pa', ' t', 'ta', 'g ', 'io', 'w ', 'yi', 'st', 'ti', 'is', 'e ', 'by', ' b', ' f', 'sp', 'ng', 'ce'}\n"
     ]
    }
   ],
   "source": [
    "# k-shighling\n",
    "# k-Shingling, or simply shingling — is the process of converting a\n",
    "# string of text into a set of ‘shingles’. The process is similar to \n",
    "# moving a window of length k down our string of text and taking a \n",
    "# picture at each step. We collate all of those pictures to create \n",
    "# our set of shingles.\n",
    "\n",
    "a = \"flying fish flew by the space station\"\n",
    "b = \"we will not allow you to bring your pet armadillo along\"\n",
    "c = \"he figured a few sticks of dynamite were easier than a fishing pole to catch fish\"\n",
    "\n",
    "def shingle(text: str, k: int):\n",
    "    shingle_set = []\n",
    "    for i in range(len(text) - k+1):\n",
    "        shingle_set.append(text[i:i+k])\n",
    "    return set(shingle_set)\n",
    "\n",
    "# k means any number (length of shiggles)\n",
    "k = 2\n",
    "\n",
    "a = shingle(a, k)\n",
    "b = shingle(b, k)\n",
    "c = shingle(c, k)\n",
    "\n",
    "print(a)"
   ]
  }
 ],
 "metadata": {
  "kernelspec": {
   "display_name": "Python 3 (ipykernel)",
   "language": "python",
   "name": "python3"
  },
  "language_info": {
   "codemirror_mode": {
    "name": "ipython",
    "version": 3
   },
   "file_extension": ".py",
   "mimetype": "text/x-python",
   "name": "python",
   "nbconvert_exporter": "python",
   "pygments_lexer": "ipython3",
   "version": "3.10.6"
  }
 },
 "nbformat": 4,
 "nbformat_minor": 5
}
